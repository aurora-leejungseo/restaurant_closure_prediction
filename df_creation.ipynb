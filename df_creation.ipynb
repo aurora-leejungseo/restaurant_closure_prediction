{
 "cells": [
  {
   "cell_type": "markdown",
   "id": "d9d9deab-7652-4ae7-a453-423ff48cda37",
   "metadata": {},
   "source": [
    "# Constructing the Dataset"
   ]
  },
  {
   "cell_type": "code",
   "execution_count": 1,
   "id": "ff82258e-ef29-4884-a79d-b90b28c2dde4",
   "metadata": {},
   "outputs": [],
   "source": [
    "import pandas as pd\n",
    "import numpy as np\n",
    "import json"
   ]
  },
  {
   "cell_type": "markdown",
   "id": "925168ef-0138-414e-a782-ee4b39f0cbaf",
   "metadata": {},
   "source": [
    "## 1. Data Loading"
   ]
  },
  {
   "cell_type": "code",
   "execution_count": 2,
   "id": "a5df41c5-4740-4eb0-bb7a-ba6bc80c4e76",
   "metadata": {},
   "outputs": [],
   "source": [
    "biz2022_path = './Data/yelp_academic_dataset_business_2022.json'\n",
    "df_2022 = pd.read_json(biz2022_path, lines=True)"
   ]
  },
  {
   "cell_type": "code",
   "execution_count": 3,
   "id": "93d78433-8ba2-49b6-8761-0e0ade980501",
   "metadata": {},
   "outputs": [
    {
     "data": {
      "text/html": [
       "<div>\n",
       "<style scoped>\n",
       "    .dataframe tbody tr th:only-of-type {\n",
       "        vertical-align: middle;\n",
       "    }\n",
       "\n",
       "    .dataframe tbody tr th {\n",
       "        vertical-align: top;\n",
       "    }\n",
       "\n",
       "    .dataframe thead th {\n",
       "        text-align: right;\n",
       "    }\n",
       "</style>\n",
       "<table border=\"1\" class=\"dataframe\">\n",
       "  <thead>\n",
       "    <tr style=\"text-align: right;\">\n",
       "      <th></th>\n",
       "      <th>business_id</th>\n",
       "      <th>name</th>\n",
       "      <th>address</th>\n",
       "      <th>city</th>\n",
       "      <th>state</th>\n",
       "      <th>postal_code</th>\n",
       "      <th>latitude</th>\n",
       "      <th>longitude</th>\n",
       "      <th>stars</th>\n",
       "      <th>review_count</th>\n",
       "      <th>is_open</th>\n",
       "      <th>attributes</th>\n",
       "      <th>categories</th>\n",
       "      <th>hours</th>\n",
       "    </tr>\n",
       "  </thead>\n",
       "  <tbody>\n",
       "    <tr>\n",
       "      <th>0</th>\n",
       "      <td>Pns2l4eNsfO8kk83dixA6A</td>\n",
       "      <td>Abby Rappoport, LAC, CMQ</td>\n",
       "      <td>1616 Chapala St, Ste 2</td>\n",
       "      <td>Santa Barbara</td>\n",
       "      <td>CA</td>\n",
       "      <td>93101</td>\n",
       "      <td>34.426679</td>\n",
       "      <td>-119.711197</td>\n",
       "      <td>5.0</td>\n",
       "      <td>7</td>\n",
       "      <td>0</td>\n",
       "      <td>{'ByAppointmentOnly': 'True'}</td>\n",
       "      <td>Doctors, Traditional Chinese Medicine, Naturop...</td>\n",
       "      <td>None</td>\n",
       "    </tr>\n",
       "    <tr>\n",
       "      <th>1</th>\n",
       "      <td>mpf3x-BjTdTEA3yCZrAYPw</td>\n",
       "      <td>The UPS Store</td>\n",
       "      <td>87 Grasso Plaza Shopping Center</td>\n",
       "      <td>Affton</td>\n",
       "      <td>MO</td>\n",
       "      <td>63123</td>\n",
       "      <td>38.551126</td>\n",
       "      <td>-90.335695</td>\n",
       "      <td>3.0</td>\n",
       "      <td>15</td>\n",
       "      <td>1</td>\n",
       "      <td>{'BusinessAcceptsCreditCards': 'True'}</td>\n",
       "      <td>Shipping Centers, Local Services, Notaries, Ma...</td>\n",
       "      <td>{'Monday': '0:0-0:0', 'Tuesday': '8:0-18:30', ...</td>\n",
       "    </tr>\n",
       "    <tr>\n",
       "      <th>2</th>\n",
       "      <td>tUFrWirKiKi_TAnsVWINQQ</td>\n",
       "      <td>Target</td>\n",
       "      <td>5255 E Broadway Blvd</td>\n",
       "      <td>Tucson</td>\n",
       "      <td>AZ</td>\n",
       "      <td>85711</td>\n",
       "      <td>32.223236</td>\n",
       "      <td>-110.880452</td>\n",
       "      <td>3.5</td>\n",
       "      <td>22</td>\n",
       "      <td>0</td>\n",
       "      <td>{'BikeParking': 'True', 'BusinessAcceptsCredit...</td>\n",
       "      <td>Department Stores, Shopping, Fashion, Home &amp; G...</td>\n",
       "      <td>{'Monday': '8:0-22:0', 'Tuesday': '8:0-22:0', ...</td>\n",
       "    </tr>\n",
       "    <tr>\n",
       "      <th>3</th>\n",
       "      <td>MTSW4McQd7CbVtyjqoe9mw</td>\n",
       "      <td>St Honore Pastries</td>\n",
       "      <td>935 Race St</td>\n",
       "      <td>Philadelphia</td>\n",
       "      <td>PA</td>\n",
       "      <td>19107</td>\n",
       "      <td>39.955505</td>\n",
       "      <td>-75.155564</td>\n",
       "      <td>4.0</td>\n",
       "      <td>80</td>\n",
       "      <td>1</td>\n",
       "      <td>{'RestaurantsDelivery': 'False', 'OutdoorSeati...</td>\n",
       "      <td>Restaurants, Food, Bubble Tea, Coffee &amp; Tea, B...</td>\n",
       "      <td>{'Monday': '7:0-20:0', 'Tuesday': '7:0-20:0', ...</td>\n",
       "    </tr>\n",
       "    <tr>\n",
       "      <th>4</th>\n",
       "      <td>mWMc6_wTdE0EUBKIGXDVfA</td>\n",
       "      <td>Perkiomen Valley Brewery</td>\n",
       "      <td>101 Walnut St</td>\n",
       "      <td>Green Lane</td>\n",
       "      <td>PA</td>\n",
       "      <td>18054</td>\n",
       "      <td>40.338183</td>\n",
       "      <td>-75.471659</td>\n",
       "      <td>4.5</td>\n",
       "      <td>13</td>\n",
       "      <td>1</td>\n",
       "      <td>{'BusinessAcceptsCreditCards': 'True', 'Wheelc...</td>\n",
       "      <td>Brewpubs, Breweries, Food</td>\n",
       "      <td>{'Wednesday': '14:0-22:0', 'Thursday': '16:0-2...</td>\n",
       "    </tr>\n",
       "  </tbody>\n",
       "</table>\n",
       "</div>"
      ],
      "text/plain": [
       "              business_id                      name  \\\n",
       "0  Pns2l4eNsfO8kk83dixA6A  Abby Rappoport, LAC, CMQ   \n",
       "1  mpf3x-BjTdTEA3yCZrAYPw             The UPS Store   \n",
       "2  tUFrWirKiKi_TAnsVWINQQ                    Target   \n",
       "3  MTSW4McQd7CbVtyjqoe9mw        St Honore Pastries   \n",
       "4  mWMc6_wTdE0EUBKIGXDVfA  Perkiomen Valley Brewery   \n",
       "\n",
       "                           address           city state postal_code  \\\n",
       "0           1616 Chapala St, Ste 2  Santa Barbara    CA       93101   \n",
       "1  87 Grasso Plaza Shopping Center         Affton    MO       63123   \n",
       "2             5255 E Broadway Blvd         Tucson    AZ       85711   \n",
       "3                      935 Race St   Philadelphia    PA       19107   \n",
       "4                    101 Walnut St     Green Lane    PA       18054   \n",
       "\n",
       "    latitude   longitude  stars  review_count  is_open  \\\n",
       "0  34.426679 -119.711197    5.0             7        0   \n",
       "1  38.551126  -90.335695    3.0            15        1   \n",
       "2  32.223236 -110.880452    3.5            22        0   \n",
       "3  39.955505  -75.155564    4.0            80        1   \n",
       "4  40.338183  -75.471659    4.5            13        1   \n",
       "\n",
       "                                          attributes  \\\n",
       "0                      {'ByAppointmentOnly': 'True'}   \n",
       "1             {'BusinessAcceptsCreditCards': 'True'}   \n",
       "2  {'BikeParking': 'True', 'BusinessAcceptsCredit...   \n",
       "3  {'RestaurantsDelivery': 'False', 'OutdoorSeati...   \n",
       "4  {'BusinessAcceptsCreditCards': 'True', 'Wheelc...   \n",
       "\n",
       "                                          categories  \\\n",
       "0  Doctors, Traditional Chinese Medicine, Naturop...   \n",
       "1  Shipping Centers, Local Services, Notaries, Ma...   \n",
       "2  Department Stores, Shopping, Fashion, Home & G...   \n",
       "3  Restaurants, Food, Bubble Tea, Coffee & Tea, B...   \n",
       "4                          Brewpubs, Breweries, Food   \n",
       "\n",
       "                                               hours  \n",
       "0                                               None  \n",
       "1  {'Monday': '0:0-0:0', 'Tuesday': '8:0-18:30', ...  \n",
       "2  {'Monday': '8:0-22:0', 'Tuesday': '8:0-22:0', ...  \n",
       "3  {'Monday': '7:0-20:0', 'Tuesday': '7:0-20:0', ...  \n",
       "4  {'Wednesday': '14:0-22:0', 'Thursday': '16:0-2...  "
      ]
     },
     "execution_count": 3,
     "metadata": {},
     "output_type": "execute_result"
    }
   ],
   "source": [
    "df_2022.head()"
   ]
  },
  {
   "cell_type": "code",
   "execution_count": 4,
   "id": "8f0fa253-84a2-42c6-aabe-aa3b0fbe9c90",
   "metadata": {},
   "outputs": [
    {
     "data": {
      "text/plain": [
       "(150346, 14)"
      ]
     },
     "execution_count": 4,
     "metadata": {},
     "output_type": "execute_result"
    }
   ],
   "source": [
    "df_2022.shape"
   ]
  },
  {
   "cell_type": "code",
   "execution_count": 5,
   "id": "5066dd6d-e4d3-4d8c-b658-27725e74d18f",
   "metadata": {},
   "outputs": [],
   "source": [
    "biz2020_path = './Data/yelp_academic_dataset_business_2020.json'\n",
    "df_2020 = pd.read_json(biz2020_path, lines=True)"
   ]
  },
  {
   "cell_type": "code",
   "execution_count": 6,
   "id": "02cc94ae-10f8-42dd-8eab-2718126cbd06",
   "metadata": {},
   "outputs": [
    {
     "data": {
      "text/html": [
       "<div>\n",
       "<style scoped>\n",
       "    .dataframe tbody tr th:only-of-type {\n",
       "        vertical-align: middle;\n",
       "    }\n",
       "\n",
       "    .dataframe tbody tr th {\n",
       "        vertical-align: top;\n",
       "    }\n",
       "\n",
       "    .dataframe thead th {\n",
       "        text-align: right;\n",
       "    }\n",
       "</style>\n",
       "<table border=\"1\" class=\"dataframe\">\n",
       "  <thead>\n",
       "    <tr style=\"text-align: right;\">\n",
       "      <th></th>\n",
       "      <th>business_id</th>\n",
       "      <th>name</th>\n",
       "      <th>address</th>\n",
       "      <th>city</th>\n",
       "      <th>state</th>\n",
       "      <th>postal_code</th>\n",
       "      <th>latitude</th>\n",
       "      <th>longitude</th>\n",
       "      <th>stars</th>\n",
       "      <th>review_count</th>\n",
       "      <th>is_open</th>\n",
       "      <th>attributes</th>\n",
       "      <th>categories</th>\n",
       "      <th>hours</th>\n",
       "    </tr>\n",
       "  </thead>\n",
       "  <tbody>\n",
       "    <tr>\n",
       "      <th>0</th>\n",
       "      <td>f9NumwFMBDn751xgFiRbNA</td>\n",
       "      <td>The Range At Lake Norman</td>\n",
       "      <td>10913 Bailey Rd</td>\n",
       "      <td>Cornelius</td>\n",
       "      <td>NC</td>\n",
       "      <td>28031</td>\n",
       "      <td>35.462724</td>\n",
       "      <td>-80.852612</td>\n",
       "      <td>3.5</td>\n",
       "      <td>36</td>\n",
       "      <td>1</td>\n",
       "      <td>{'BusinessAcceptsCreditCards': 'True', 'BikePa...</td>\n",
       "      <td>Active Life, Gun/Rifle Ranges, Guns &amp; Ammo, Sh...</td>\n",
       "      <td>{'Monday': '10:0-18:0', 'Tuesday': '11:0-20:0'...</td>\n",
       "    </tr>\n",
       "    <tr>\n",
       "      <th>1</th>\n",
       "      <td>Yzvjg0SayhoZgCljUJRF9Q</td>\n",
       "      <td>Carlos Santo, NMD</td>\n",
       "      <td>8880 E Via Linda, Ste 107</td>\n",
       "      <td>Scottsdale</td>\n",
       "      <td>AZ</td>\n",
       "      <td>85258</td>\n",
       "      <td>33.569404</td>\n",
       "      <td>-111.890264</td>\n",
       "      <td>5.0</td>\n",
       "      <td>4</td>\n",
       "      <td>1</td>\n",
       "      <td>{'GoodForKids': 'True', 'ByAppointmentOnly': '...</td>\n",
       "      <td>Health &amp; Medical, Fitness &amp; Instruction, Yoga,...</td>\n",
       "      <td>None</td>\n",
       "    </tr>\n",
       "    <tr>\n",
       "      <th>2</th>\n",
       "      <td>XNoUzKckATkOD1hP6vghZg</td>\n",
       "      <td>Felinus</td>\n",
       "      <td>3554 Rue Notre-Dame O</td>\n",
       "      <td>Montreal</td>\n",
       "      <td>QC</td>\n",
       "      <td>H4C 1P4</td>\n",
       "      <td>45.479984</td>\n",
       "      <td>-73.580070</td>\n",
       "      <td>5.0</td>\n",
       "      <td>5</td>\n",
       "      <td>1</td>\n",
       "      <td>None</td>\n",
       "      <td>Pets, Pet Services, Pet Groomers</td>\n",
       "      <td>None</td>\n",
       "    </tr>\n",
       "    <tr>\n",
       "      <th>3</th>\n",
       "      <td>6OAZjbxqM5ol29BuHsil3w</td>\n",
       "      <td>Nevada House of Hose</td>\n",
       "      <td>1015 Sharp Cir</td>\n",
       "      <td>North Las Vegas</td>\n",
       "      <td>NV</td>\n",
       "      <td>89030</td>\n",
       "      <td>36.219728</td>\n",
       "      <td>-115.127725</td>\n",
       "      <td>2.5</td>\n",
       "      <td>3</td>\n",
       "      <td>0</td>\n",
       "      <td>{'BusinessAcceptsCreditCards': 'True', 'ByAppo...</td>\n",
       "      <td>Hardware Stores, Home Services, Building Suppl...</td>\n",
       "      <td>{'Monday': '7:0-16:0', 'Tuesday': '7:0-16:0', ...</td>\n",
       "    </tr>\n",
       "    <tr>\n",
       "      <th>4</th>\n",
       "      <td>51M2Kk903DFYI6gnB5I6SQ</td>\n",
       "      <td>USE MY GUY SERVICES LLC</td>\n",
       "      <td>4827 E Downing Cir</td>\n",
       "      <td>Mesa</td>\n",
       "      <td>AZ</td>\n",
       "      <td>85205</td>\n",
       "      <td>33.428065</td>\n",
       "      <td>-111.726648</td>\n",
       "      <td>4.5</td>\n",
       "      <td>26</td>\n",
       "      <td>1</td>\n",
       "      <td>{'BusinessAcceptsCreditCards': 'True', 'ByAppo...</td>\n",
       "      <td>Home Services, Plumbing, Electricians, Handyma...</td>\n",
       "      <td>{'Monday': '0:0-0:0', 'Tuesday': '9:0-16:0', '...</td>\n",
       "    </tr>\n",
       "  </tbody>\n",
       "</table>\n",
       "</div>"
      ],
      "text/plain": [
       "              business_id                      name  \\\n",
       "0  f9NumwFMBDn751xgFiRbNA  The Range At Lake Norman   \n",
       "1  Yzvjg0SayhoZgCljUJRF9Q         Carlos Santo, NMD   \n",
       "2  XNoUzKckATkOD1hP6vghZg                   Felinus   \n",
       "3  6OAZjbxqM5ol29BuHsil3w      Nevada House of Hose   \n",
       "4  51M2Kk903DFYI6gnB5I6SQ   USE MY GUY SERVICES LLC   \n",
       "\n",
       "                     address             city state postal_code   latitude  \\\n",
       "0            10913 Bailey Rd        Cornelius    NC       28031  35.462724   \n",
       "1  8880 E Via Linda, Ste 107       Scottsdale    AZ       85258  33.569404   \n",
       "2      3554 Rue Notre-Dame O         Montreal    QC     H4C 1P4  45.479984   \n",
       "3             1015 Sharp Cir  North Las Vegas    NV       89030  36.219728   \n",
       "4         4827 E Downing Cir             Mesa    AZ       85205  33.428065   \n",
       "\n",
       "    longitude  stars  review_count  is_open  \\\n",
       "0  -80.852612    3.5            36        1   \n",
       "1 -111.890264    5.0             4        1   \n",
       "2  -73.580070    5.0             5        1   \n",
       "3 -115.127725    2.5             3        0   \n",
       "4 -111.726648    4.5            26        1   \n",
       "\n",
       "                                          attributes  \\\n",
       "0  {'BusinessAcceptsCreditCards': 'True', 'BikePa...   \n",
       "1  {'GoodForKids': 'True', 'ByAppointmentOnly': '...   \n",
       "2                                               None   \n",
       "3  {'BusinessAcceptsCreditCards': 'True', 'ByAppo...   \n",
       "4  {'BusinessAcceptsCreditCards': 'True', 'ByAppo...   \n",
       "\n",
       "                                          categories  \\\n",
       "0  Active Life, Gun/Rifle Ranges, Guns & Ammo, Sh...   \n",
       "1  Health & Medical, Fitness & Instruction, Yoga,...   \n",
       "2                   Pets, Pet Services, Pet Groomers   \n",
       "3  Hardware Stores, Home Services, Building Suppl...   \n",
       "4  Home Services, Plumbing, Electricians, Handyma...   \n",
       "\n",
       "                                               hours  \n",
       "0  {'Monday': '10:0-18:0', 'Tuesday': '11:0-20:0'...  \n",
       "1                                               None  \n",
       "2                                               None  \n",
       "3  {'Monday': '7:0-16:0', 'Tuesday': '7:0-16:0', ...  \n",
       "4  {'Monday': '0:0-0:0', 'Tuesday': '9:0-16:0', '...  "
      ]
     },
     "execution_count": 6,
     "metadata": {},
     "output_type": "execute_result"
    }
   ],
   "source": [
    "df_2020.head()"
   ]
  },
  {
   "cell_type": "code",
   "execution_count": 7,
   "id": "bf57e087-ad28-45a8-a240-d5a3f4cb61f9",
   "metadata": {},
   "outputs": [
    {
     "data": {
      "text/plain": [
       "(209393, 14)"
      ]
     },
     "execution_count": 7,
     "metadata": {},
     "output_type": "execute_result"
    }
   ],
   "source": [
    "df_2020.shape"
   ]
  },
  {
   "cell_type": "code",
   "execution_count": 8,
   "id": "137e6c8f-0df6-4086-8e79-8c58399e3e3c",
   "metadata": {},
   "outputs": [
    {
     "data": {
      "text/html": [
       "<div>\n",
       "<style scoped>\n",
       "    .dataframe tbody tr th:only-of-type {\n",
       "        vertical-align: middle;\n",
       "    }\n",
       "\n",
       "    .dataframe tbody tr th {\n",
       "        vertical-align: top;\n",
       "    }\n",
       "\n",
       "    .dataframe thead th {\n",
       "        text-align: right;\n",
       "    }\n",
       "</style>\n",
       "<table border=\"1\" class=\"dataframe\">\n",
       "  <thead>\n",
       "    <tr style=\"text-align: right;\">\n",
       "      <th></th>\n",
       "      <th>business_id</th>\n",
       "      <th>name</th>\n",
       "      <th>address</th>\n",
       "      <th>city</th>\n",
       "      <th>state</th>\n",
       "      <th>postal_code</th>\n",
       "      <th>latitude</th>\n",
       "      <th>longitude</th>\n",
       "      <th>stars</th>\n",
       "      <th>review_count</th>\n",
       "      <th>is_open</th>\n",
       "      <th>attributes</th>\n",
       "      <th>categories</th>\n",
       "      <th>hours</th>\n",
       "    </tr>\n",
       "  </thead>\n",
       "  <tbody>\n",
       "    <tr>\n",
       "      <th>0</th>\n",
       "      <td>Pns2l4eNsfO8kk83dixA6A</td>\n",
       "      <td>Abby Rappoport, LAC, CMQ</td>\n",
       "      <td>1616 Chapala St, Ste 2</td>\n",
       "      <td>Santa Barbara</td>\n",
       "      <td>CA</td>\n",
       "      <td>93101</td>\n",
       "      <td>34.426679</td>\n",
       "      <td>-119.711197</td>\n",
       "      <td>5.0</td>\n",
       "      <td>7</td>\n",
       "      <td>0</td>\n",
       "      <td>{'ByAppointmentOnly': 'True'}</td>\n",
       "      <td>Doctors, Traditional Chinese Medicine, Naturop...</td>\n",
       "      <td>None</td>\n",
       "    </tr>\n",
       "    <tr>\n",
       "      <th>1</th>\n",
       "      <td>mpf3x-BjTdTEA3yCZrAYPw</td>\n",
       "      <td>The UPS Store</td>\n",
       "      <td>87 Grasso Plaza Shopping Center</td>\n",
       "      <td>Affton</td>\n",
       "      <td>MO</td>\n",
       "      <td>63123</td>\n",
       "      <td>38.551126</td>\n",
       "      <td>-90.335695</td>\n",
       "      <td>3.0</td>\n",
       "      <td>15</td>\n",
       "      <td>1</td>\n",
       "      <td>{'BusinessAcceptsCreditCards': 'True'}</td>\n",
       "      <td>Shipping Centers, Local Services, Notaries, Ma...</td>\n",
       "      <td>{'Monday': '0:0-0:0', 'Tuesday': '8:0-18:30', ...</td>\n",
       "    </tr>\n",
       "    <tr>\n",
       "      <th>2</th>\n",
       "      <td>tUFrWirKiKi_TAnsVWINQQ</td>\n",
       "      <td>Target</td>\n",
       "      <td>5255 E Broadway Blvd</td>\n",
       "      <td>Tucson</td>\n",
       "      <td>AZ</td>\n",
       "      <td>85711</td>\n",
       "      <td>32.223236</td>\n",
       "      <td>-110.880452</td>\n",
       "      <td>3.5</td>\n",
       "      <td>22</td>\n",
       "      <td>0</td>\n",
       "      <td>{'BikeParking': 'True', 'BusinessAcceptsCredit...</td>\n",
       "      <td>Department Stores, Shopping, Fashion, Home &amp; G...</td>\n",
       "      <td>{'Monday': '8:0-22:0', 'Tuesday': '8:0-22:0', ...</td>\n",
       "    </tr>\n",
       "    <tr>\n",
       "      <th>3</th>\n",
       "      <td>MTSW4McQd7CbVtyjqoe9mw</td>\n",
       "      <td>St Honore Pastries</td>\n",
       "      <td>935 Race St</td>\n",
       "      <td>Philadelphia</td>\n",
       "      <td>PA</td>\n",
       "      <td>19107</td>\n",
       "      <td>39.955505</td>\n",
       "      <td>-75.155564</td>\n",
       "      <td>4.0</td>\n",
       "      <td>80</td>\n",
       "      <td>1</td>\n",
       "      <td>{'RestaurantsDelivery': 'False', 'OutdoorSeati...</td>\n",
       "      <td>Restaurants, Food, Bubble Tea, Coffee &amp; Tea, B...</td>\n",
       "      <td>{'Monday': '7:0-20:0', 'Tuesday': '7:0-20:0', ...</td>\n",
       "    </tr>\n",
       "    <tr>\n",
       "      <th>4</th>\n",
       "      <td>mWMc6_wTdE0EUBKIGXDVfA</td>\n",
       "      <td>Perkiomen Valley Brewery</td>\n",
       "      <td>101 Walnut St</td>\n",
       "      <td>Green Lane</td>\n",
       "      <td>PA</td>\n",
       "      <td>18054</td>\n",
       "      <td>40.338183</td>\n",
       "      <td>-75.471659</td>\n",
       "      <td>4.5</td>\n",
       "      <td>13</td>\n",
       "      <td>1</td>\n",
       "      <td>{'BusinessAcceptsCreditCards': 'True', 'Wheelc...</td>\n",
       "      <td>Brewpubs, Breweries, Food</td>\n",
       "      <td>{'Wednesday': '14:0-22:0', 'Thursday': '16:0-2...</td>\n",
       "    </tr>\n",
       "  </tbody>\n",
       "</table>\n",
       "</div>"
      ],
      "text/plain": [
       "              business_id                      name  \\\n",
       "0  Pns2l4eNsfO8kk83dixA6A  Abby Rappoport, LAC, CMQ   \n",
       "1  mpf3x-BjTdTEA3yCZrAYPw             The UPS Store   \n",
       "2  tUFrWirKiKi_TAnsVWINQQ                    Target   \n",
       "3  MTSW4McQd7CbVtyjqoe9mw        St Honore Pastries   \n",
       "4  mWMc6_wTdE0EUBKIGXDVfA  Perkiomen Valley Brewery   \n",
       "\n",
       "                           address           city state postal_code  \\\n",
       "0           1616 Chapala St, Ste 2  Santa Barbara    CA       93101   \n",
       "1  87 Grasso Plaza Shopping Center         Affton    MO       63123   \n",
       "2             5255 E Broadway Blvd         Tucson    AZ       85711   \n",
       "3                      935 Race St   Philadelphia    PA       19107   \n",
       "4                    101 Walnut St     Green Lane    PA       18054   \n",
       "\n",
       "    latitude   longitude  stars  review_count  is_open  \\\n",
       "0  34.426679 -119.711197    5.0             7        0   \n",
       "1  38.551126  -90.335695    3.0            15        1   \n",
       "2  32.223236 -110.880452    3.5            22        0   \n",
       "3  39.955505  -75.155564    4.0            80        1   \n",
       "4  40.338183  -75.471659    4.5            13        1   \n",
       "\n",
       "                                          attributes  \\\n",
       "0                      {'ByAppointmentOnly': 'True'}   \n",
       "1             {'BusinessAcceptsCreditCards': 'True'}   \n",
       "2  {'BikeParking': 'True', 'BusinessAcceptsCredit...   \n",
       "3  {'RestaurantsDelivery': 'False', 'OutdoorSeati...   \n",
       "4  {'BusinessAcceptsCreditCards': 'True', 'Wheelc...   \n",
       "\n",
       "                                          categories  \\\n",
       "0  Doctors, Traditional Chinese Medicine, Naturop...   \n",
       "1  Shipping Centers, Local Services, Notaries, Ma...   \n",
       "2  Department Stores, Shopping, Fashion, Home & G...   \n",
       "3  Restaurants, Food, Bubble Tea, Coffee & Tea, B...   \n",
       "4                          Brewpubs, Breweries, Food   \n",
       "\n",
       "                                               hours  \n",
       "0                                               None  \n",
       "1  {'Monday': '0:0-0:0', 'Tuesday': '8:0-18:30', ...  \n",
       "2  {'Monday': '8:0-22:0', 'Tuesday': '8:0-22:0', ...  \n",
       "3  {'Monday': '7:0-20:0', 'Tuesday': '7:0-20:0', ...  \n",
       "4  {'Wednesday': '14:0-22:0', 'Thursday': '16:0-2...  "
      ]
     },
     "execution_count": 8,
     "metadata": {},
     "output_type": "execute_result"
    }
   ],
   "source": [
    "df_2022.head()"
   ]
  },
  {
   "cell_type": "code",
   "execution_count": 9,
   "id": "e895489e-4246-4a01-a5b3-ab016fccff2b",
   "metadata": {},
   "outputs": [
    {
     "data": {
      "text/plain": [
       "(150346, 14)"
      ]
     },
     "execution_count": 9,
     "metadata": {},
     "output_type": "execute_result"
    }
   ],
   "source": [
    "df_2022.shape"
   ]
  },
  {
   "cell_type": "markdown",
   "id": "6362258f-9549-40cb-aa5d-93e2b08615f6",
   "metadata": {},
   "source": [
    "## 2. Data Cleaning"
   ]
  },
  {
   "cell_type": "markdown",
   "id": "0314e596-cc85-4aa3-8447-b84f5c460001",
   "metadata": {},
   "source": [
    "Clean out the categories which are not including 'Restaurants' or 'Food'."
   ]
  },
  {
   "cell_type": "code",
   "execution_count": 10,
   "id": "c49b78e3-19f4-4bca-8ef8-560a5462cc34",
   "metadata": {},
   "outputs": [
    {
     "data": {
      "text/plain": [
       "(80492, 14)"
      ]
     },
     "execution_count": 10,
     "metadata": {},
     "output_type": "execute_result"
    }
   ],
   "source": [
    "df_2020 = df_2020[df_2020['categories'].str.contains('Restaurants|Food', na=False)]\n",
    "df_2020.shape"
   ]
  },
  {
   "cell_type": "markdown",
   "id": "48f11059-aced-48fa-ad33-2e8b59a17350",
   "metadata": {},
   "source": [
    "Only left the restaurants which were opened in 2020."
   ]
  },
  {
   "cell_type": "code",
   "execution_count": 11,
   "id": "7eb69558-b815-4012-ac41-2012a636d6d2",
   "metadata": {},
   "outputs": [],
   "source": [
    "df_2020 = df_2020[df_2020['is_open'] == 1]"
   ]
  },
  {
   "cell_type": "code",
   "execution_count": 12,
   "id": "bf972b4c-8f23-47a2-8fa1-f9ea0fbf26aa",
   "metadata": {},
   "outputs": [
    {
     "data": {
      "text/plain": [
       "(56936, 14)"
      ]
     },
     "execution_count": 12,
     "metadata": {},
     "output_type": "execute_result"
    }
   ],
   "source": [
    "df_2020.shape"
   ]
  },
  {
   "cell_type": "code",
   "execution_count": 13,
   "id": "f007408e-1cfd-40e3-ab27-e31ea9487d45",
   "metadata": {},
   "outputs": [
    {
     "name": "stdout",
     "output_type": "stream",
     "text": [
      "The number of initial restaurants which were operating in 2020 is 56936.\n"
     ]
    }
   ],
   "source": [
    "print(f'The number of initial restaurants which were operating in 2020 is {df_2020.shape[0]}.')"
   ]
  },
  {
   "cell_type": "markdown",
   "id": "ac041022-dfd3-43f2-8b69-577f8003d5c7",
   "metadata": {},
   "source": [
    "Check how many restaurants we have in common from the 2020 and 2022 datasets."
   ]
  },
  {
   "cell_type": "markdown",
   "id": "f86ef60c-45d4-4c9a-a31a-726a1e7fa142",
   "metadata": {},
   "source": [
    "Try out changing the business name and address to lowercase to check if it returns more restaurants in common."
   ]
  },
  {
   "cell_type": "code",
   "execution_count": 14,
   "id": "dabb00ae-4b7d-4105-9d61-d5b3ffb91471",
   "metadata": {},
   "outputs": [],
   "source": [
    "df_2022['name'] = df_2022['name'].str.lower()\n",
    "df_2020['name'] = df_2020['name'].str.lower()\n",
    "df_2022['address'] = df_2022['address'].str.lower()\n",
    "df_2020['address'] = df_2020['address'].str.lower()"
   ]
  },
  {
   "cell_type": "code",
   "execution_count": 15,
   "id": "4450646e-a2ac-4c72-bf61-b6e663faa90c",
   "metadata": {},
   "outputs": [],
   "source": [
    "# Take out the first 4 characters of the address as matching full address is hard\n",
    "df_2020['add_1'] = df_2020['address'].str[:4]\n",
    "df_2022['add_1'] = df_2022['address'].str[:4]"
   ]
  },
  {
   "cell_type": "code",
   "execution_count": 16,
   "id": "157f8bfa-43e5-4970-b721-7233bebc4e2d",
   "metadata": {},
   "outputs": [
    {
     "data": {
      "text/plain": [
       "Index(['business_id', 'name', 'address', 'city', 'state', 'postal_code',\n",
       "       'latitude', 'longitude', 'stars', 'review_count', 'is_open',\n",
       "       'attributes', 'categories', 'hours', 'add_1'],\n",
       "      dtype='object')"
      ]
     },
     "execution_count": 16,
     "metadata": {},
     "output_type": "execute_result"
    }
   ],
   "source": [
    "df_2020.columns"
   ]
  },
  {
   "cell_type": "code",
   "execution_count": 17,
   "id": "c9808eac-738a-4d7d-b53c-9bdb8e5edea1",
   "metadata": {},
   "outputs": [
    {
     "data": {
      "text/html": [
       "<div>\n",
       "<style scoped>\n",
       "    .dataframe tbody tr th:only-of-type {\n",
       "        vertical-align: middle;\n",
       "    }\n",
       "\n",
       "    .dataframe tbody tr th {\n",
       "        vertical-align: top;\n",
       "    }\n",
       "\n",
       "    .dataframe thead th {\n",
       "        text-align: right;\n",
       "    }\n",
       "</style>\n",
       "<table border=\"1\" class=\"dataframe\">\n",
       "  <thead>\n",
       "    <tr style=\"text-align: right;\">\n",
       "      <th></th>\n",
       "      <th>business_id</th>\n",
       "      <th>name</th>\n",
       "      <th>address</th>\n",
       "      <th>city</th>\n",
       "      <th>state</th>\n",
       "      <th>postal_code</th>\n",
       "      <th>latitude</th>\n",
       "      <th>longitude</th>\n",
       "      <th>stars</th>\n",
       "      <th>review_count</th>\n",
       "      <th>is_open</th>\n",
       "      <th>attributes</th>\n",
       "      <th>categories</th>\n",
       "      <th>hours</th>\n",
       "      <th>add_1</th>\n",
       "    </tr>\n",
       "  </thead>\n",
       "  <tbody>\n",
       "    <tr>\n",
       "      <th>8</th>\n",
       "      <td>pQeaRpvuhoEqudo3uymHIQ</td>\n",
       "      <td>the empanadas house</td>\n",
       "      <td>404 e green st</td>\n",
       "      <td>Champaign</td>\n",
       "      <td>IL</td>\n",
       "      <td>61820</td>\n",
       "      <td>40.110446</td>\n",
       "      <td>-88.233073</td>\n",
       "      <td>4.5</td>\n",
       "      <td>5</td>\n",
       "      <td>1</td>\n",
       "      <td>{'RestaurantsAttire': 'u'casual'', 'Restaurant...</td>\n",
       "      <td>Ethnic Food, Food Trucks, Specialty Food, Impo...</td>\n",
       "      <td>{'Monday': '11:30-14:30', 'Tuesday': '11:30-14...</td>\n",
       "      <td>404</td>\n",
       "    </tr>\n",
       "    <tr>\n",
       "      <th>12</th>\n",
       "      <td>M_guz7Dj7hX0evS672wIwA</td>\n",
       "      <td>chocolate shoppe ice cream</td>\n",
       "      <td>2831 parmenter st</td>\n",
       "      <td>Middleton</td>\n",
       "      <td>WI</td>\n",
       "      <td>53562</td>\n",
       "      <td>43.105310</td>\n",
       "      <td>-89.510142</td>\n",
       "      <td>3.5</td>\n",
       "      <td>6</td>\n",
       "      <td>1</td>\n",
       "      <td>{'BikeParking': 'True', 'Caters': 'True', 'Whe...</td>\n",
       "      <td>Desserts, Food, Ice Cream &amp; Frozen Yogurt</td>\n",
       "      <td>{'Monday': '0:0-0:0', 'Tuesday': '11:0-21:0', ...</td>\n",
       "      <td>2831</td>\n",
       "    </tr>\n",
       "    <tr>\n",
       "      <th>23</th>\n",
       "      <td>mKTq1T_IAplDpHUcMzOXkw</td>\n",
       "      <td>tipsy ryde</td>\n",
       "      <td></td>\n",
       "      <td>Gastonia</td>\n",
       "      <td>NC</td>\n",
       "      <td>28054</td>\n",
       "      <td>35.252842</td>\n",
       "      <td>-81.152698</td>\n",
       "      <td>3.5</td>\n",
       "      <td>3</td>\n",
       "      <td>1</td>\n",
       "      <td>{'BusinessAcceptsCreditCards': 'True'}</td>\n",
       "      <td>Hotels &amp; Travel, Transportation, Taxis, Beer, ...</td>\n",
       "      <td>{'Monday': '0:0-0:0', 'Tuesday': '9:0-0:0', 'W...</td>\n",
       "      <td></td>\n",
       "    </tr>\n",
       "    <tr>\n",
       "      <th>24</th>\n",
       "      <td>eBEfgOPG7pvFhb2wcG9I7w</td>\n",
       "      <td>philthy phillys</td>\n",
       "      <td>15480 bayview avenue, unit d0110</td>\n",
       "      <td>Aurora</td>\n",
       "      <td>ON</td>\n",
       "      <td>L4G 7J1</td>\n",
       "      <td>44.010962</td>\n",
       "      <td>-79.448677</td>\n",
       "      <td>4.5</td>\n",
       "      <td>4</td>\n",
       "      <td>1</td>\n",
       "      <td>{'RestaurantsTableService': 'False', 'Restaura...</td>\n",
       "      <td>Restaurants, Cheesesteaks, Poutineries</td>\n",
       "      <td>{'Monday': '11:0-22:0', 'Tuesday': '11:0-22:0'...</td>\n",
       "      <td>1548</td>\n",
       "    </tr>\n",
       "    <tr>\n",
       "      <th>25</th>\n",
       "      <td>lu7vtrp_bE9PnxWfA8g4Pg</td>\n",
       "      <td>banzai sushi</td>\n",
       "      <td>300 john street</td>\n",
       "      <td>Thornhill</td>\n",
       "      <td>ON</td>\n",
       "      <td>L3T 5W4</td>\n",
       "      <td>43.820492</td>\n",
       "      <td>-79.398466</td>\n",
       "      <td>4.5</td>\n",
       "      <td>7</td>\n",
       "      <td>1</td>\n",
       "      <td>{'GoodForKids': 'True', 'RestaurantsTakeOut': ...</td>\n",
       "      <td>Japanese, Fast Food, Food Court, Restaurants</td>\n",
       "      <td>None</td>\n",
       "      <td>300</td>\n",
       "    </tr>\n",
       "  </tbody>\n",
       "</table>\n",
       "</div>"
      ],
      "text/plain": [
       "               business_id                        name  \\\n",
       "8   pQeaRpvuhoEqudo3uymHIQ         the empanadas house   \n",
       "12  M_guz7Dj7hX0evS672wIwA  chocolate shoppe ice cream   \n",
       "23  mKTq1T_IAplDpHUcMzOXkw                  tipsy ryde   \n",
       "24  eBEfgOPG7pvFhb2wcG9I7w             philthy phillys   \n",
       "25  lu7vtrp_bE9PnxWfA8g4Pg                banzai sushi   \n",
       "\n",
       "                             address       city state postal_code   latitude  \\\n",
       "8                     404 e green st  Champaign    IL       61820  40.110446   \n",
       "12                 2831 parmenter st  Middleton    WI       53562  43.105310   \n",
       "23                                     Gastonia    NC       28054  35.252842   \n",
       "24  15480 bayview avenue, unit d0110     Aurora    ON     L4G 7J1  44.010962   \n",
       "25                   300 john street  Thornhill    ON     L3T 5W4  43.820492   \n",
       "\n",
       "    longitude  stars  review_count  is_open  \\\n",
       "8  -88.233073    4.5             5        1   \n",
       "12 -89.510142    3.5             6        1   \n",
       "23 -81.152698    3.5             3        1   \n",
       "24 -79.448677    4.5             4        1   \n",
       "25 -79.398466    4.5             7        1   \n",
       "\n",
       "                                           attributes  \\\n",
       "8   {'RestaurantsAttire': 'u'casual'', 'Restaurant...   \n",
       "12  {'BikeParking': 'True', 'Caters': 'True', 'Whe...   \n",
       "23             {'BusinessAcceptsCreditCards': 'True'}   \n",
       "24  {'RestaurantsTableService': 'False', 'Restaura...   \n",
       "25  {'GoodForKids': 'True', 'RestaurantsTakeOut': ...   \n",
       "\n",
       "                                           categories  \\\n",
       "8   Ethnic Food, Food Trucks, Specialty Food, Impo...   \n",
       "12          Desserts, Food, Ice Cream & Frozen Yogurt   \n",
       "23  Hotels & Travel, Transportation, Taxis, Beer, ...   \n",
       "24             Restaurants, Cheesesteaks, Poutineries   \n",
       "25       Japanese, Fast Food, Food Court, Restaurants   \n",
       "\n",
       "                                                hours add_1  \n",
       "8   {'Monday': '11:30-14:30', 'Tuesday': '11:30-14...  404   \n",
       "12  {'Monday': '0:0-0:0', 'Tuesday': '11:0-21:0', ...  2831  \n",
       "23  {'Monday': '0:0-0:0', 'Tuesday': '9:0-0:0', 'W...        \n",
       "24  {'Monday': '11:0-22:0', 'Tuesday': '11:0-22:0'...  1548  \n",
       "25                                               None  300   "
      ]
     },
     "execution_count": 17,
     "metadata": {},
     "output_type": "execute_result"
    }
   ],
   "source": [
    "df_2020.head()"
   ]
  },
  {
   "cell_type": "code",
   "execution_count": 18,
   "id": "93f712b4-d09c-4799-868c-786caea9c5d6",
   "metadata": {},
   "outputs": [
    {
     "data": {
      "text/plain": [
       "Index(['business_id', 'name', 'address', 'city', 'state', 'postal_code',\n",
       "       'latitude', 'longitude', 'stars', 'review_count', 'is_open',\n",
       "       'attributes', 'categories', 'hours', 'add_1'],\n",
       "      dtype='object')"
      ]
     },
     "execution_count": 18,
     "metadata": {},
     "output_type": "execute_result"
    }
   ],
   "source": [
    "df_2020.columns"
   ]
  },
  {
   "cell_type": "code",
   "execution_count": 19,
   "id": "8ece3acc-749e-4cae-92cd-5416ccb09e21",
   "metadata": {},
   "outputs": [],
   "source": [
    "df_2020 = df_2020.drop('is_open', axis=1)"
   ]
  },
  {
   "cell_type": "code",
   "execution_count": 20,
   "id": "f43e64e8-570a-4ef6-9442-48f207720db5",
   "metadata": {},
   "outputs": [
    {
     "data": {
      "text/plain": [
       "(56936, 14)"
      ]
     },
     "execution_count": 20,
     "metadata": {},
     "output_type": "execute_result"
    }
   ],
   "source": [
    "df_2020.shape"
   ]
  },
  {
   "cell_type": "code",
   "execution_count": 21,
   "id": "511c86b4-b9fc-4e90-9074-da4b4735feda",
   "metadata": {},
   "outputs": [],
   "source": [
    "df = pd.merge(df_2020, df_2022, on = ['name', 'add_1'], how='left')"
   ]
  },
  {
   "cell_type": "code",
   "execution_count": 22,
   "id": "63d192e3-ec59-4ee5-9e9e-d3f0d4aaeb7a",
   "metadata": {},
   "outputs": [],
   "source": [
    "df = df.drop_duplicates(subset=['name', 'add_1', 'address_x', 'city_x'])"
   ]
  },
  {
   "cell_type": "code",
   "execution_count": 23,
   "id": "b821d423-bc57-4ac9-a921-053b47b90517",
   "metadata": {},
   "outputs": [
    {
     "data": {
      "text/plain": [
       "Index(['business_id_x', 'name', 'address_x', 'city_x', 'state_x',\n",
       "       'postal_code_x', 'latitude_x', 'longitude_x', 'stars_x',\n",
       "       'review_count_x', 'attributes_x', 'categories_x', 'hours_x', 'add_1',\n",
       "       'business_id_y', 'address_y', 'city_y', 'state_y', 'postal_code_y',\n",
       "       'latitude_y', 'longitude_y', 'stars_y', 'review_count_y', 'is_open',\n",
       "       'attributes_y', 'categories_y', 'hours_y'],\n",
       "      dtype='object')"
      ]
     },
     "execution_count": 23,
     "metadata": {},
     "output_type": "execute_result"
    }
   ],
   "source": [
    "df.columns"
   ]
  },
  {
   "cell_type": "code",
   "execution_count": 24,
   "id": "eab2f303-5e9d-44ef-9117-dcfe28fbe544",
   "metadata": {},
   "outputs": [
    {
     "data": {
      "text/plain": [
       "(56885, 27)"
      ]
     },
     "execution_count": 24,
     "metadata": {},
     "output_type": "execute_result"
    }
   ],
   "source": [
    "df.shape"
   ]
  },
  {
   "cell_type": "code",
   "execution_count": 25,
   "id": "7cdc7b44-7a6a-4854-8b3f-156bd925ec60",
   "metadata": {},
   "outputs": [],
   "source": [
    "df = df[['business_id_x', 'name', 'address_x', 'city_x', 'state_x',\n",
    "       'postal_code_x', 'latitude_x', 'longitude_x', 'stars_x',\n",
    "       'review_count_x', 'attributes_x', 'categories_x', 'hours_x', 'add_1', 'is_open']]"
   ]
  },
  {
   "cell_type": "code",
   "execution_count": 26,
   "id": "d6cc6c04-7ae1-486d-8704-7de96c191f85",
   "metadata": {},
   "outputs": [
    {
     "data": {
      "text/plain": [
       "674"
      ]
     },
     "execution_count": 26,
     "metadata": {},
     "output_type": "execute_result"
    }
   ],
   "source": [
    "df.is_open.count()"
   ]
  },
  {
   "cell_type": "code",
   "execution_count": 27,
   "id": "9d62a9c0-c414-46fc-a33a-8fbbfd1b05e5",
   "metadata": {},
   "outputs": [
    {
     "data": {
      "text/plain": [
       "601.0"
      ]
     },
     "execution_count": 27,
     "metadata": {},
     "output_type": "execute_result"
    }
   ],
   "source": [
    "df.is_open.sum()"
   ]
  },
  {
   "cell_type": "code",
   "execution_count": 28,
   "id": "0c48b0fb-542e-432f-8979-fc2f4e43d4cb",
   "metadata": {},
   "outputs": [
    {
     "name": "stdout",
     "output_type": "stream",
     "text": [
      "Out of 56885 restaurants, we got the current status of 674 restaurants. There are 601 restaurants opened and 73 closed down in 2 years.\n"
     ]
    }
   ],
   "source": [
    "print(f'Out of {df.shape[0]} restaurants, we got the current status of {df.is_open.count()} restaurants. There are {int(df.is_open.sum())} restaurants opened and {int(df.is_open.count() - df.is_open.sum())} closed down in 2 years.')"
   ]
  },
  {
   "cell_type": "code",
   "execution_count": 29,
   "id": "1cdcf2b9-97de-4469-a324-dc62b9b27cae",
   "metadata": {},
   "outputs": [
    {
     "data": {
      "text/html": [
       "<div>\n",
       "<style scoped>\n",
       "    .dataframe tbody tr th:only-of-type {\n",
       "        vertical-align: middle;\n",
       "    }\n",
       "\n",
       "    .dataframe tbody tr th {\n",
       "        vertical-align: top;\n",
       "    }\n",
       "\n",
       "    .dataframe thead th {\n",
       "        text-align: right;\n",
       "    }\n",
       "</style>\n",
       "<table border=\"1\" class=\"dataframe\">\n",
       "  <thead>\n",
       "    <tr style=\"text-align: right;\">\n",
       "      <th></th>\n",
       "      <th>business_id_x</th>\n",
       "      <th>name</th>\n",
       "      <th>address_x</th>\n",
       "      <th>city_x</th>\n",
       "      <th>state_x</th>\n",
       "      <th>postal_code_x</th>\n",
       "      <th>latitude_x</th>\n",
       "      <th>longitude_x</th>\n",
       "      <th>stars_x</th>\n",
       "      <th>review_count_x</th>\n",
       "      <th>attributes_x</th>\n",
       "      <th>categories_x</th>\n",
       "      <th>hours_x</th>\n",
       "      <th>add_1</th>\n",
       "      <th>is_open</th>\n",
       "    </tr>\n",
       "  </thead>\n",
       "  <tbody>\n",
       "    <tr>\n",
       "      <th>0</th>\n",
       "      <td>pQeaRpvuhoEqudo3uymHIQ</td>\n",
       "      <td>the empanadas house</td>\n",
       "      <td>404 e green st</td>\n",
       "      <td>Champaign</td>\n",
       "      <td>IL</td>\n",
       "      <td>61820</td>\n",
       "      <td>40.110446</td>\n",
       "      <td>-88.233073</td>\n",
       "      <td>4.5</td>\n",
       "      <td>5</td>\n",
       "      <td>{'RestaurantsAttire': 'u'casual'', 'Restaurant...</td>\n",
       "      <td>Ethnic Food, Food Trucks, Specialty Food, Impo...</td>\n",
       "      <td>{'Monday': '11:30-14:30', 'Tuesday': '11:30-14...</td>\n",
       "      <td>404</td>\n",
       "      <td>NaN</td>\n",
       "    </tr>\n",
       "    <tr>\n",
       "      <th>1</th>\n",
       "      <td>M_guz7Dj7hX0evS672wIwA</td>\n",
       "      <td>chocolate shoppe ice cream</td>\n",
       "      <td>2831 parmenter st</td>\n",
       "      <td>Middleton</td>\n",
       "      <td>WI</td>\n",
       "      <td>53562</td>\n",
       "      <td>43.105310</td>\n",
       "      <td>-89.510142</td>\n",
       "      <td>3.5</td>\n",
       "      <td>6</td>\n",
       "      <td>{'BikeParking': 'True', 'Caters': 'True', 'Whe...</td>\n",
       "      <td>Desserts, Food, Ice Cream &amp; Frozen Yogurt</td>\n",
       "      <td>{'Monday': '0:0-0:0', 'Tuesday': '11:0-21:0', ...</td>\n",
       "      <td>2831</td>\n",
       "      <td>NaN</td>\n",
       "    </tr>\n",
       "    <tr>\n",
       "      <th>2</th>\n",
       "      <td>mKTq1T_IAplDpHUcMzOXkw</td>\n",
       "      <td>tipsy ryde</td>\n",
       "      <td></td>\n",
       "      <td>Gastonia</td>\n",
       "      <td>NC</td>\n",
       "      <td>28054</td>\n",
       "      <td>35.252842</td>\n",
       "      <td>-81.152698</td>\n",
       "      <td>3.5</td>\n",
       "      <td>3</td>\n",
       "      <td>{'BusinessAcceptsCreditCards': 'True'}</td>\n",
       "      <td>Hotels &amp; Travel, Transportation, Taxis, Beer, ...</td>\n",
       "      <td>{'Monday': '0:0-0:0', 'Tuesday': '9:0-0:0', 'W...</td>\n",
       "      <td></td>\n",
       "      <td>NaN</td>\n",
       "    </tr>\n",
       "    <tr>\n",
       "      <th>3</th>\n",
       "      <td>eBEfgOPG7pvFhb2wcG9I7w</td>\n",
       "      <td>philthy phillys</td>\n",
       "      <td>15480 bayview avenue, unit d0110</td>\n",
       "      <td>Aurora</td>\n",
       "      <td>ON</td>\n",
       "      <td>L4G 7J1</td>\n",
       "      <td>44.010962</td>\n",
       "      <td>-79.448677</td>\n",
       "      <td>4.5</td>\n",
       "      <td>4</td>\n",
       "      <td>{'RestaurantsTableService': 'False', 'Restaura...</td>\n",
       "      <td>Restaurants, Cheesesteaks, Poutineries</td>\n",
       "      <td>{'Monday': '11:0-22:0', 'Tuesday': '11:0-22:0'...</td>\n",
       "      <td>1548</td>\n",
       "      <td>NaN</td>\n",
       "    </tr>\n",
       "    <tr>\n",
       "      <th>4</th>\n",
       "      <td>lu7vtrp_bE9PnxWfA8g4Pg</td>\n",
       "      <td>banzai sushi</td>\n",
       "      <td>300 john street</td>\n",
       "      <td>Thornhill</td>\n",
       "      <td>ON</td>\n",
       "      <td>L3T 5W4</td>\n",
       "      <td>43.820492</td>\n",
       "      <td>-79.398466</td>\n",
       "      <td>4.5</td>\n",
       "      <td>7</td>\n",
       "      <td>{'GoodForKids': 'True', 'RestaurantsTakeOut': ...</td>\n",
       "      <td>Japanese, Fast Food, Food Court, Restaurants</td>\n",
       "      <td>None</td>\n",
       "      <td>300</td>\n",
       "      <td>NaN</td>\n",
       "    </tr>\n",
       "  </tbody>\n",
       "</table>\n",
       "</div>"
      ],
      "text/plain": [
       "            business_id_x                        name  \\\n",
       "0  pQeaRpvuhoEqudo3uymHIQ         the empanadas house   \n",
       "1  M_guz7Dj7hX0evS672wIwA  chocolate shoppe ice cream   \n",
       "2  mKTq1T_IAplDpHUcMzOXkw                  tipsy ryde   \n",
       "3  eBEfgOPG7pvFhb2wcG9I7w             philthy phillys   \n",
       "4  lu7vtrp_bE9PnxWfA8g4Pg                banzai sushi   \n",
       "\n",
       "                          address_x     city_x state_x postal_code_x  \\\n",
       "0                    404 e green st  Champaign      IL         61820   \n",
       "1                 2831 parmenter st  Middleton      WI         53562   \n",
       "2                                     Gastonia      NC         28054   \n",
       "3  15480 bayview avenue, unit d0110     Aurora      ON       L4G 7J1   \n",
       "4                   300 john street  Thornhill      ON       L3T 5W4   \n",
       "\n",
       "   latitude_x  longitude_x  stars_x  review_count_x  \\\n",
       "0   40.110446   -88.233073      4.5               5   \n",
       "1   43.105310   -89.510142      3.5               6   \n",
       "2   35.252842   -81.152698      3.5               3   \n",
       "3   44.010962   -79.448677      4.5               4   \n",
       "4   43.820492   -79.398466      4.5               7   \n",
       "\n",
       "                                        attributes_x  \\\n",
       "0  {'RestaurantsAttire': 'u'casual'', 'Restaurant...   \n",
       "1  {'BikeParking': 'True', 'Caters': 'True', 'Whe...   \n",
       "2             {'BusinessAcceptsCreditCards': 'True'}   \n",
       "3  {'RestaurantsTableService': 'False', 'Restaura...   \n",
       "4  {'GoodForKids': 'True', 'RestaurantsTakeOut': ...   \n",
       "\n",
       "                                        categories_x  \\\n",
       "0  Ethnic Food, Food Trucks, Specialty Food, Impo...   \n",
       "1          Desserts, Food, Ice Cream & Frozen Yogurt   \n",
       "2  Hotels & Travel, Transportation, Taxis, Beer, ...   \n",
       "3             Restaurants, Cheesesteaks, Poutineries   \n",
       "4       Japanese, Fast Food, Food Court, Restaurants   \n",
       "\n",
       "                                             hours_x add_1  is_open  \n",
       "0  {'Monday': '11:30-14:30', 'Tuesday': '11:30-14...  404       NaN  \n",
       "1  {'Monday': '0:0-0:0', 'Tuesday': '11:0-21:0', ...  2831      NaN  \n",
       "2  {'Monday': '0:0-0:0', 'Tuesday': '9:0-0:0', 'W...            NaN  \n",
       "3  {'Monday': '11:0-22:0', 'Tuesday': '11:0-22:0'...  1548      NaN  \n",
       "4                                               None  300       NaN  "
      ]
     },
     "execution_count": 29,
     "metadata": {},
     "output_type": "execute_result"
    }
   ],
   "source": [
    "df.head()"
   ]
  },
  {
   "cell_type": "code",
   "execution_count": 30,
   "id": "c06db103-d81e-464b-8711-8e6b262aacd8",
   "metadata": {},
   "outputs": [
    {
     "data": {
      "text/plain": [
       "Index(['business_id_x', 'name', 'address_x', 'city_x', 'state_x',\n",
       "       'postal_code_x', 'latitude_x', 'longitude_x', 'stars_x',\n",
       "       'review_count_x', 'attributes_x', 'categories_x', 'hours_x', 'add_1',\n",
       "       'is_open'],\n",
       "      dtype='object')"
      ]
     },
     "execution_count": 30,
     "metadata": {},
     "output_type": "execute_result"
    }
   ],
   "source": [
    "# Rename columns\n",
    "df.columns"
   ]
  },
  {
   "cell_type": "code",
   "execution_count": 31,
   "id": "9be58301-46c4-47b0-807c-ac84dbc3ceeb",
   "metadata": {},
   "outputs": [],
   "source": [
    "df.columns = ['business_id', 'name', 'address', 'city', 'state',\n",
    "       'postal_code', 'latitude', 'longitude', 'stars',\n",
    "       'review_count', 'attributes', 'categories', 'hours', 'add_1',\n",
    "       'is_open']"
   ]
  },
  {
   "cell_type": "code",
   "execution_count": 32,
   "id": "25cfe747-6719-4489-be41-2a25bc02c9b2",
   "metadata": {},
   "outputs": [
    {
     "data": {
      "text/html": [
       "<div>\n",
       "<style scoped>\n",
       "    .dataframe tbody tr th:only-of-type {\n",
       "        vertical-align: middle;\n",
       "    }\n",
       "\n",
       "    .dataframe tbody tr th {\n",
       "        vertical-align: top;\n",
       "    }\n",
       "\n",
       "    .dataframe thead th {\n",
       "        text-align: right;\n",
       "    }\n",
       "</style>\n",
       "<table border=\"1\" class=\"dataframe\">\n",
       "  <thead>\n",
       "    <tr style=\"text-align: right;\">\n",
       "      <th></th>\n",
       "      <th>business_id</th>\n",
       "      <th>name</th>\n",
       "      <th>address</th>\n",
       "      <th>city</th>\n",
       "      <th>state</th>\n",
       "      <th>postal_code</th>\n",
       "      <th>latitude</th>\n",
       "      <th>longitude</th>\n",
       "      <th>stars</th>\n",
       "      <th>review_count</th>\n",
       "      <th>attributes</th>\n",
       "      <th>categories</th>\n",
       "      <th>hours</th>\n",
       "      <th>add_1</th>\n",
       "      <th>is_open</th>\n",
       "    </tr>\n",
       "  </thead>\n",
       "  <tbody>\n",
       "    <tr>\n",
       "      <th>0</th>\n",
       "      <td>pQeaRpvuhoEqudo3uymHIQ</td>\n",
       "      <td>the empanadas house</td>\n",
       "      <td>404 e green st</td>\n",
       "      <td>Champaign</td>\n",
       "      <td>IL</td>\n",
       "      <td>61820</td>\n",
       "      <td>40.110446</td>\n",
       "      <td>-88.233073</td>\n",
       "      <td>4.5</td>\n",
       "      <td>5</td>\n",
       "      <td>{'RestaurantsAttire': 'u'casual'', 'Restaurant...</td>\n",
       "      <td>Ethnic Food, Food Trucks, Specialty Food, Impo...</td>\n",
       "      <td>{'Monday': '11:30-14:30', 'Tuesday': '11:30-14...</td>\n",
       "      <td>404</td>\n",
       "      <td>NaN</td>\n",
       "    </tr>\n",
       "    <tr>\n",
       "      <th>1</th>\n",
       "      <td>M_guz7Dj7hX0evS672wIwA</td>\n",
       "      <td>chocolate shoppe ice cream</td>\n",
       "      <td>2831 parmenter st</td>\n",
       "      <td>Middleton</td>\n",
       "      <td>WI</td>\n",
       "      <td>53562</td>\n",
       "      <td>43.105310</td>\n",
       "      <td>-89.510142</td>\n",
       "      <td>3.5</td>\n",
       "      <td>6</td>\n",
       "      <td>{'BikeParking': 'True', 'Caters': 'True', 'Whe...</td>\n",
       "      <td>Desserts, Food, Ice Cream &amp; Frozen Yogurt</td>\n",
       "      <td>{'Monday': '0:0-0:0', 'Tuesday': '11:0-21:0', ...</td>\n",
       "      <td>2831</td>\n",
       "      <td>NaN</td>\n",
       "    </tr>\n",
       "    <tr>\n",
       "      <th>2</th>\n",
       "      <td>mKTq1T_IAplDpHUcMzOXkw</td>\n",
       "      <td>tipsy ryde</td>\n",
       "      <td></td>\n",
       "      <td>Gastonia</td>\n",
       "      <td>NC</td>\n",
       "      <td>28054</td>\n",
       "      <td>35.252842</td>\n",
       "      <td>-81.152698</td>\n",
       "      <td>3.5</td>\n",
       "      <td>3</td>\n",
       "      <td>{'BusinessAcceptsCreditCards': 'True'}</td>\n",
       "      <td>Hotels &amp; Travel, Transportation, Taxis, Beer, ...</td>\n",
       "      <td>{'Monday': '0:0-0:0', 'Tuesday': '9:0-0:0', 'W...</td>\n",
       "      <td></td>\n",
       "      <td>NaN</td>\n",
       "    </tr>\n",
       "    <tr>\n",
       "      <th>3</th>\n",
       "      <td>eBEfgOPG7pvFhb2wcG9I7w</td>\n",
       "      <td>philthy phillys</td>\n",
       "      <td>15480 bayview avenue, unit d0110</td>\n",
       "      <td>Aurora</td>\n",
       "      <td>ON</td>\n",
       "      <td>L4G 7J1</td>\n",
       "      <td>44.010962</td>\n",
       "      <td>-79.448677</td>\n",
       "      <td>4.5</td>\n",
       "      <td>4</td>\n",
       "      <td>{'RestaurantsTableService': 'False', 'Restaura...</td>\n",
       "      <td>Restaurants, Cheesesteaks, Poutineries</td>\n",
       "      <td>{'Monday': '11:0-22:0', 'Tuesday': '11:0-22:0'...</td>\n",
       "      <td>1548</td>\n",
       "      <td>NaN</td>\n",
       "    </tr>\n",
       "    <tr>\n",
       "      <th>4</th>\n",
       "      <td>lu7vtrp_bE9PnxWfA8g4Pg</td>\n",
       "      <td>banzai sushi</td>\n",
       "      <td>300 john street</td>\n",
       "      <td>Thornhill</td>\n",
       "      <td>ON</td>\n",
       "      <td>L3T 5W4</td>\n",
       "      <td>43.820492</td>\n",
       "      <td>-79.398466</td>\n",
       "      <td>4.5</td>\n",
       "      <td>7</td>\n",
       "      <td>{'GoodForKids': 'True', 'RestaurantsTakeOut': ...</td>\n",
       "      <td>Japanese, Fast Food, Food Court, Restaurants</td>\n",
       "      <td>None</td>\n",
       "      <td>300</td>\n",
       "      <td>NaN</td>\n",
       "    </tr>\n",
       "  </tbody>\n",
       "</table>\n",
       "</div>"
      ],
      "text/plain": [
       "              business_id                        name  \\\n",
       "0  pQeaRpvuhoEqudo3uymHIQ         the empanadas house   \n",
       "1  M_guz7Dj7hX0evS672wIwA  chocolate shoppe ice cream   \n",
       "2  mKTq1T_IAplDpHUcMzOXkw                  tipsy ryde   \n",
       "3  eBEfgOPG7pvFhb2wcG9I7w             philthy phillys   \n",
       "4  lu7vtrp_bE9PnxWfA8g4Pg                banzai sushi   \n",
       "\n",
       "                            address       city state postal_code   latitude  \\\n",
       "0                    404 e green st  Champaign    IL       61820  40.110446   \n",
       "1                 2831 parmenter st  Middleton    WI       53562  43.105310   \n",
       "2                                     Gastonia    NC       28054  35.252842   \n",
       "3  15480 bayview avenue, unit d0110     Aurora    ON     L4G 7J1  44.010962   \n",
       "4                   300 john street  Thornhill    ON     L3T 5W4  43.820492   \n",
       "\n",
       "   longitude  stars  review_count  \\\n",
       "0 -88.233073    4.5             5   \n",
       "1 -89.510142    3.5             6   \n",
       "2 -81.152698    3.5             3   \n",
       "3 -79.448677    4.5             4   \n",
       "4 -79.398466    4.5             7   \n",
       "\n",
       "                                          attributes  \\\n",
       "0  {'RestaurantsAttire': 'u'casual'', 'Restaurant...   \n",
       "1  {'BikeParking': 'True', 'Caters': 'True', 'Whe...   \n",
       "2             {'BusinessAcceptsCreditCards': 'True'}   \n",
       "3  {'RestaurantsTableService': 'False', 'Restaura...   \n",
       "4  {'GoodForKids': 'True', 'RestaurantsTakeOut': ...   \n",
       "\n",
       "                                          categories  \\\n",
       "0  Ethnic Food, Food Trucks, Specialty Food, Impo...   \n",
       "1          Desserts, Food, Ice Cream & Frozen Yogurt   \n",
       "2  Hotels & Travel, Transportation, Taxis, Beer, ...   \n",
       "3             Restaurants, Cheesesteaks, Poutineries   \n",
       "4       Japanese, Fast Food, Food Court, Restaurants   \n",
       "\n",
       "                                               hours add_1  is_open  \n",
       "0  {'Monday': '11:30-14:30', 'Tuesday': '11:30-14...  404       NaN  \n",
       "1  {'Monday': '0:0-0:0', 'Tuesday': '11:0-21:0', ...  2831      NaN  \n",
       "2  {'Monday': '0:0-0:0', 'Tuesday': '9:0-0:0', 'W...            NaN  \n",
       "3  {'Monday': '11:0-22:0', 'Tuesday': '11:0-22:0'...  1548      NaN  \n",
       "4                                               None  300       NaN  "
      ]
     },
     "execution_count": 32,
     "metadata": {},
     "output_type": "execute_result"
    }
   ],
   "source": [
    "df.head()"
   ]
  },
  {
   "cell_type": "code",
   "execution_count": 33,
   "id": "9f8dc5e9-3c19-45a1-b389-adf3b4ad3644",
   "metadata": {},
   "outputs": [],
   "source": [
    "df.to_csv('./Data/current_with_2022data.csv')"
   ]
  },
  {
   "cell_type": "markdown",
   "id": "852083e3-a23d-4ae5-8755-6654bf54b3c9",
   "metadata": {},
   "source": [
    "## 3. Using Yelp API to fill out the current status"
   ]
  },
  {
   "cell_type": "code",
   "execution_count": 34,
   "id": "cdcfbb45-0f49-4e19-8023-57127e14150a",
   "metadata": {},
   "outputs": [],
   "source": [
    "# For the first time user, create your new app on Yelp API\n",
    "\n",
    "# https://www.yelp.com/developers/v3/manage_app"
   ]
  },
  {
   "cell_type": "code",
   "execution_count": 35,
   "id": "02758541-9242-4df0-82d3-0449fc67cd46",
   "metadata": {},
   "outputs": [],
   "source": [
    "import requests"
   ]
  },
  {
   "cell_type": "code",
   "execution_count": 36,
   "id": "a04e9e33-e526-4e88-a44c-390c478887a7",
   "metadata": {},
   "outputs": [],
   "source": [
    "def get_full_data(row):\n",
    "\n",
    "    def is_open(row):\n",
    "        try:\n",
    "            is_closed = result['is_closed']\n",
    "            if is_closed:\n",
    "                return 0\n",
    "            else:\n",
    "                #print ('opened')\n",
    "                return 1\n",
    "        except:     # if there is no data\n",
    "            #print ('no info', row['business_id'])\n",
    "            return np.nan\n",
    "\n",
    "    def review_count(row):\n",
    "        try:\n",
    "            review_count = result['review_count']\n",
    "            return review_count\n",
    "        except:     # if there is no data\n",
    "            return np.nan\n",
    "\n",
    "    def rating(row):\n",
    "        try:\n",
    "            rating = result['rating']\n",
    "            return rating\n",
    "        except:\n",
    "            return np.nan\n",
    "            \n",
    "    base_url ='https://api.yelp.com/v3/businesses/'\n",
    "    # getting param from the df\n",
    "    business_id = row['business_id']\n",
    "    name = row['name']\n",
    "\n",
    "    # access to API\n",
    "    API_Key = api_key\n",
    "    auth = {'Authorization': 'Bearer ' + API_Key}\n",
    "    response = requests.get(base_url+business_id, headers=auth)\n",
    "\n",
    "    # get the response in a json format\n",
    "    result = response.json()\n",
    "    \n",
    "    if pd.isna(row['is_open']):\n",
    "        row['is_open'] = is_open(row)\n",
    "    else:\n",
    "        pass\n",
    "    \n",
    "    row['review_count_2022'] = review_count(row)\n",
    "    row['rating_2022'] = rating(row)\n",
    "    \n",
    "    return row"
   ]
  },
  {
   "cell_type": "code",
   "execution_count": 37,
   "id": "5cf31127-17b9-4db9-856b-bddb7382420a",
   "metadata": {},
   "outputs": [],
   "source": [
    "# this is for creating 'is_open' from api only\n",
    "\n",
    "def get_data(row):\n",
    "    \n",
    "    if pd.isna(row['is_open']):\n",
    "        base_url ='https://api.yelp.com/v3/businesses/'\n",
    "        # getting param from the df\n",
    "        business_id = row['business_id']\n",
    "        name = row['name']\n",
    "\n",
    "        # access to API\n",
    "        API_Key = api_key\n",
    "        auth = {'Authorization': 'Bearer ' + API_Key}\n",
    "        response = requests.get(base_url+business_id, headers=auth)\n",
    "\n",
    "        # get the response in a json format\n",
    "        result = response.json()\n",
    "\n",
    "        try:\n",
    "            is_closed = result['is_closed']\n",
    "            if is_closed:\n",
    "                row['is_currently_open'] = 0\n",
    "            else:\n",
    "                #print ('opened')\n",
    "                row['is_currently_open'] = 0\n",
    "        except:     # if there is no data\n",
    "            #print ('no info', row['business_id'])\n",
    "            row['is_currently_open'] = np.nan\n",
    "            \n",
    "    else:\n",
    "        #print('already has data', row['is_open'])\n",
    "        pass"
   ]
  },
  {
   "cell_type": "code",
   "execution_count": 38,
   "id": "2190d9bf-ec8a-48c0-9428-215b5157d2cc",
   "metadata": {},
   "outputs": [
    {
     "ename": "NameError",
     "evalue": "name 'api_key' is not defined",
     "output_type": "error",
     "traceback": [
      "\u001b[0;31m---------------------------------------------------------------------------\u001b[0m",
      "\u001b[0;31mNameError\u001b[0m                                 Traceback (most recent call last)",
      "\u001b[0;32m/var/folders/7d/y5sp1m1d1kz3wjkn9tlw3hx00000gn/T/ipykernel_50968/1536751503.py\u001b[0m in \u001b[0;36m<module>\u001b[0;34m\u001b[0m\n\u001b[1;32m      1\u001b[0m \u001b[0mbusiness_id\u001b[0m \u001b[0;34m=\u001b[0m \u001b[0;34m'98hyK2QEUeI8v2y0AghfZA'\u001b[0m\u001b[0;34m\u001b[0m\u001b[0;34m\u001b[0m\u001b[0m\n\u001b[1;32m      2\u001b[0m \u001b[0mbase_url\u001b[0m \u001b[0;34m=\u001b[0m\u001b[0;34m'https://api.yelp.com/v3/businesses/'\u001b[0m\u001b[0;34m\u001b[0m\u001b[0;34m\u001b[0m\u001b[0m\n\u001b[0;32m----> 3\u001b[0;31m \u001b[0mAPI_Key\u001b[0m \u001b[0;34m=\u001b[0m \u001b[0mapi_key\u001b[0m\u001b[0;34m\u001b[0m\u001b[0;34m\u001b[0m\u001b[0m\n\u001b[0m\u001b[1;32m      4\u001b[0m \u001b[0mauth\u001b[0m \u001b[0;34m=\u001b[0m \u001b[0;34m{\u001b[0m\u001b[0;34m'Authorization'\u001b[0m\u001b[0;34m:\u001b[0m \u001b[0;34m'Bearer '\u001b[0m \u001b[0;34m+\u001b[0m \u001b[0mAPI_Key\u001b[0m\u001b[0;34m}\u001b[0m\u001b[0;34m\u001b[0m\u001b[0;34m\u001b[0m\u001b[0m\n\u001b[1;32m      5\u001b[0m \u001b[0mresponse\u001b[0m \u001b[0;34m=\u001b[0m \u001b[0mrequests\u001b[0m\u001b[0;34m.\u001b[0m\u001b[0mget\u001b[0m\u001b[0;34m(\u001b[0m\u001b[0mbase_url\u001b[0m\u001b[0;34m+\u001b[0m\u001b[0mbusiness_id\u001b[0m\u001b[0;34m,\u001b[0m \u001b[0mheaders\u001b[0m\u001b[0;34m=\u001b[0m\u001b[0mauth\u001b[0m\u001b[0;34m)\u001b[0m\u001b[0;34m\u001b[0m\u001b[0;34m\u001b[0m\u001b[0m\n",
      "\u001b[0;31mNameError\u001b[0m: name 'api_key' is not defined"
     ]
    }
   ],
   "source": [
    "business_id = '98hyK2QEUeI8v2y0AghfZA'\n",
    "base_url ='https://api.yelp.com/v3/businesses/'\n",
    "API_Key = api_key\n",
    "auth = {'Authorization': 'Bearer ' + API_Key}\n",
    "response = requests.get(base_url+business_id, headers=auth)\n",
    "result = response.json()\n",
    "try:\n",
    "    is_closed = result['is_closed']\n",
    "    if is_closed:\n",
    "        print('closed')\n",
    "    else:\n",
    "        print('open')\n",
    "except:\n",
    "    print('no info')\n"
   ]
  },
  {
   "cell_type": "code",
   "execution_count": null,
   "id": "0d6b0286-655b-4857-becc-ff66ef39ac5d",
   "metadata": {},
   "outputs": [],
   "source": [
    "df.iloc[6:9]"
   ]
  },
  {
   "cell_type": "code",
   "execution_count": 39,
   "id": "6d5ed8cd-d6b0-4365-afb7-32d7b7db59fa",
   "metadata": {},
   "outputs": [
    {
     "data": {
      "text/plain": [
       "(56885, 15)"
      ]
     },
     "execution_count": 39,
     "metadata": {},
     "output_type": "execute_result"
    }
   ],
   "source": [
    "df.shape"
   ]
  },
  {
   "cell_type": "code",
   "execution_count": 67,
   "id": "25015755-9479-4371-8b2d-01a1012043f1",
   "metadata": {},
   "outputs": [],
   "source": [
    "# Due to the daily limit of API usage, will divide df into pieces\n",
    "# df_1 = df.iloc[:2500]\n",
    "# df_2 = df.iloc[2500:5000]\n",
    "# df_3 = df.iloc[5000:7500]\n",
    "# df_4 = df.iloc[7500:10000]\n",
    "# df_5 = df.iloc[10000:12500]\n",
    "# df_6 = df.iloc[12500:15000]\n",
    "# df_15 = df.iloc[55000:]\n",
    "#df_7 = df.iloc[15000:20000]\n",
    "#df_8 = df.iloc[20000:25000]\n",
    "#df_9 = df.iloc[25000:30000]\n",
    "#df_10 = df.iloc[30000:35000]\n",
    "#df_11 = df.iloc[35000:40000]\n",
    "#df_12 = df.iloc[40000:45000]\n",
    "#df_13 = df.iloc[45000:50000]\n",
    "#df_14 = df.iloc[50000:55000]"
   ]
  },
  {
   "cell_type": "code",
   "execution_count": 68,
   "id": "c12aecb6-f9d4-49ef-8bfd-2992f30a8959",
   "metadata": {},
   "outputs": [],
   "source": [
    "api_key = 'ukN5VPdhtYWTfLiveLGWaKF_s1HyD8-TNde2CKf1bjlq1FXKC_V5m1jMdcQdvn41vde8hknsyP4uk7PmsFAfSrxsWWZLmCi9IEen3MNWuClauclzluhWmn3d9K-OY3Yx'"
   ]
  },
  {
   "cell_type": "code",
   "execution_count": 90,
   "id": "18718373-ce26-4207-8b2c-9c30bf1b3d9a",
   "metadata": {},
   "outputs": [],
   "source": [
    "# df_1 = df_1.apply(get_full_data, axis=1)\n",
    "# df_1.to_csv('./Data/df_full_1.csv')"
   ]
  },
  {
   "cell_type": "code",
   "execution_count": 92,
   "id": "e27f6f75-133f-4309-bda4-cc3d5df2a0e5",
   "metadata": {},
   "outputs": [],
   "source": [
    "# df_2 = df_2.apply(get_full_data, axis=1)\n",
    "# df_2.to_csv('./Data/df_full_2.csv')"
   ]
  },
  {
   "cell_type": "code",
   "execution_count": 93,
   "id": "d523bdab-34db-418f-8408-2e73703b1d81",
   "metadata": {},
   "outputs": [],
   "source": [
    "# df_3 = df_3.apply(get_full_data, axis=1)\n",
    "# df_3.to_csv('./Data/df_full_3.csv')"
   ]
  },
  {
   "cell_type": "code",
   "execution_count": 95,
   "id": "d9bd9c2e-c1be-46a5-a947-4cf326b84c56",
   "metadata": {},
   "outputs": [],
   "source": [
    "# df_4 = df_4.apply(get_full_data, axis=1)\n",
    "# df_4.to_csv('./Data/df_full_4.csv')"
   ]
  },
  {
   "cell_type": "code",
   "execution_count": 108,
   "id": "eaf8a7f7-0d53-44cc-822d-7a6957ae7638",
   "metadata": {},
   "outputs": [],
   "source": [
    "# df_5 = df_5.apply(get_full_data, axis=1)\n",
    "# df_5.to_csv('./Data/df_full_5.csv')"
   ]
  },
  {
   "cell_type": "code",
   "execution_count": 42,
   "id": "e1eb42e6-de16-4cbb-9e6c-ea25f86b7a5c",
   "metadata": {},
   "outputs": [],
   "source": [
    "# df_6 = df_6.apply(get_full_data, axis=1)\n",
    "# df_6.to_csv('./Data/df_full_6.csv')"
   ]
  },
  {
   "cell_type": "code",
   "execution_count": 43,
   "id": "49d5bf8f-4824-4db8-a365-11e2b7879f0c",
   "metadata": {},
   "outputs": [],
   "source": [
    "# df_15 = df_15.apply(get_full_data, axis=1)\n",
    "# df_15.to_csv('./Data/df_full_15.csv')"
   ]
  },
  {
   "cell_type": "code",
   "execution_count": 46,
   "id": "bb16212e-5a95-40b8-967a-6392ff3b8daa",
   "metadata": {},
   "outputs": [],
   "source": [
    "# df_7 = df_7.apply(get_full_data, axis=1)\n",
    "# df_7.to_csv('./Data/df_full_7.csv')"
   ]
  },
  {
   "cell_type": "code",
   "execution_count": 49,
   "id": "7283bed7-0100-4fbc-9e28-904a0970a469",
   "metadata": {},
   "outputs": [],
   "source": [
    "# df_8 = df_8.apply(get_full_data, axis=1)\n",
    "# df_8.to_csv('./Data/df_full_8.csv')"
   ]
  },
  {
   "cell_type": "code",
   "execution_count": 52,
   "id": "ca6f3ec1-0b27-4829-b996-9ca073ab308f",
   "metadata": {},
   "outputs": [],
   "source": [
    "# df_9 = df_9.apply(get_full_data, axis=1)\n",
    "# df_9.to_csv('./Data/df_full_9.csv')"
   ]
  },
  {
   "cell_type": "code",
   "execution_count": 56,
   "id": "90509746-3f3a-497a-9678-35a4c075f41e",
   "metadata": {},
   "outputs": [],
   "source": [
    "# df_10 = df_10.apply(get_full_data, axis=1)\n",
    "# df_10.to_csv('./Data/df_full_10.csv')"
   ]
  },
  {
   "cell_type": "code",
   "execution_count": 59,
   "id": "f5de91de-99b9-425e-8ecc-cf3e98ada6b2",
   "metadata": {},
   "outputs": [],
   "source": [
    "# df_11 = df_11.apply(get_full_data, axis=1)\n",
    "# df_11.to_csv('./Data/df_full_11.csv')"
   ]
  },
  {
   "cell_type": "code",
   "execution_count": 63,
   "id": "35c6ab17-d9ac-46a4-bdc5-f3656ae90a98",
   "metadata": {},
   "outputs": [],
   "source": [
    "# df_12 = df_12.apply(get_full_data, axis=1)\n",
    "# df_12.to_csv('./Data/df_full_12.csv')"
   ]
  },
  {
   "cell_type": "code",
   "execution_count": 66,
   "id": "8e31c057-44c7-4442-a096-5b3b899cc592",
   "metadata": {},
   "outputs": [],
   "source": [
    "# df_13 = df_13.apply(get_full_data, axis=1)\n",
    "# df_13.to_csv('./Data/df_full_13.csv')"
   ]
  },
  {
   "cell_type": "code",
   "execution_count": 69,
   "id": "fe4bc46b-aef0-43ac-ab53-33f2dda0b4ab",
   "metadata": {},
   "outputs": [],
   "source": [
    "# df_14 = df_14.apply(get_full_data, axis=1)\n",
    "# df_14.to_csv('./Data/df_full_14.csv')"
   ]
  },
  {
   "cell_type": "code",
   "execution_count": 76,
   "id": "19d793e5-3142-4712-8ec9-1b360ff26cfa",
   "metadata": {},
   "outputs": [],
   "source": [
    "## 4. Add 2020 population\n",
    "\n",
    "# api from US Census\n",
    "api_key = '9b29cd5afc3a93548cd6504b1386c0eb1b48350e'"
   ]
  },
  {
   "cell_type": "code",
   "execution_count": null,
   "id": "23819ea7-8936-4154-8af5-9b2ff08c9545",
   "metadata": {},
   "outputs": [],
   "source": [
    "#Once, you have a key, insert &key= followed by your key code at the end of your API calls: &key=your key here"
   ]
  },
  {
   "cell_type": "markdown",
   "id": "91f5e0a3-d51a-4e2f-9ab6-3d61b2a012ae",
   "metadata": {},
   "source": [
    "## 4. Create a full df"
   ]
  },
  {
   "cell_type": "code",
   "execution_count": null,
   "id": "ea1ba171-28d5-4cf4-a22e-25dbbe8f623b",
   "metadata": {},
   "outputs": [],
   "source": [
    "file_names = ['df_full_1','df_full_2','df_full_3','df_full_4','df_full_5','df_full_6','df_full_7', 'df_full_8','df_full_9','df_full_10','df_full_11','df_full_12','df_full_13','df_full_14','df_full_15']\n",
    "\n",
    "def full_df(file_names):\n",
    "    \n",
    "    list_of_df = []\n",
    "    base_path = './Data/'\n",
    "    df = pd.DataFrame()\n",
    "    \n",
    "    for file in file_names:\n",
    "        add_file = pd.read_csv(base_path+file+'.csv')\n",
    "        add_file.drop('Unnamed: 0',axis=1, inplace=True)\n",
    "        add_file.drop('add_1', axis=1, inplace=True)\n",
    "        \n",
    "        df = pd.concat([df, add_file], axis=0, ignore_index=True) \n",
    "        \n",
    "    return df"
   ]
  },
  {
   "cell_type": "code",
   "execution_count": null,
   "id": "b766a47d-5344-4b76-b2d2-8a17bc5748cb",
   "metadata": {},
   "outputs": [],
   "source": [
    "df = full_df(file_names)"
   ]
  },
  {
   "cell_type": "code",
   "execution_count": null,
   "id": "454c4f21-9a46-4a4e-9986-54bfdababc01",
   "metadata": {},
   "outputs": [],
   "source": [
    "df.to_csv('./Data/df.csv')"
   ]
  }
 ],
 "metadata": {
  "kernelspec": {
   "display_name": "Python 3 (ipykernel)",
   "language": "python",
   "name": "python3"
  },
  "language_info": {
   "codemirror_mode": {
    "name": "ipython",
    "version": 3
   },
   "file_extension": ".py",
   "mimetype": "text/x-python",
   "name": "python",
   "nbconvert_exporter": "python",
   "pygments_lexer": "ipython3",
   "version": "3.9.13"
  }
 },
 "nbformat": 4,
 "nbformat_minor": 5
}
